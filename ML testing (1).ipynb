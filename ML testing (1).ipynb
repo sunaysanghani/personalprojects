{
 "cells": [
  {
   "cell_type": "code",
   "execution_count": 5,
   "id": "a8b50b02",
   "metadata": {},
   "outputs": [],
   "source": [
    "import pandas as pd\n",
    "import sklearn\n",
    "import numpy as np\n",
    "from sklearn import datasets\n",
    "from sklearn.linear_model import LogisticRegression\n",
    "from sklearn.metrics import classification_report, confusion_matrix\n",
    "import matplotlib.pyplot as plt"
   ]
  },
  {
   "cell_type": "code",
   "execution_count": 6,
   "id": "793b05db",
   "metadata": {},
   "outputs": [],
   "source": [
    "iris = datasets.load_iris()\n",
    "iris_df = pd.DataFrame(iris.data)\n",
    "iris_df['class'] = iris.target"
   ]
  },
  {
   "cell_type": "code",
   "execution_count": 4,
   "id": "6b38eff6",
   "metadata": {},
   "outputs": [
    {
     "data": {
      "text/plain": [
       "<bound method NDFrame.head of        0    1    2    3  class\n",
       "0    5.1  3.5  1.4  0.2      0\n",
       "1    4.9  3.0  1.4  0.2      0\n",
       "2    4.7  3.2  1.3  0.2      0\n",
       "3    4.6  3.1  1.5  0.2      0\n",
       "4    5.0  3.6  1.4  0.2      0\n",
       "..   ...  ...  ...  ...    ...\n",
       "145  6.7  3.0  5.2  2.3      2\n",
       "146  6.3  2.5  5.0  1.9      2\n",
       "147  6.5  3.0  5.2  2.0      2\n",
       "148  6.2  3.4  5.4  2.3      2\n",
       "149  5.9  3.0  5.1  1.8      2\n",
       "\n",
       "[150 rows x 5 columns]>"
      ]
     },
     "execution_count": 4,
     "metadata": {},
     "output_type": "execute_result"
    }
   ],
   "source": [
    "iris_df.head"
   ]
  },
  {
   "cell_type": "code",
   "execution_count": 5,
   "id": "76fd5c93",
   "metadata": {},
   "outputs": [
    {
     "data": {
      "text/html": [
       "<div>\n",
       "<style scoped>\n",
       "    .dataframe tbody tr th:only-of-type {\n",
       "        vertical-align: middle;\n",
       "    }\n",
       "\n",
       "    .dataframe tbody tr th {\n",
       "        vertical-align: top;\n",
       "    }\n",
       "\n",
       "    .dataframe thead th {\n",
       "        text-align: right;\n",
       "    }\n",
       "</style>\n",
       "<table border=\"1\" class=\"dataframe\">\n",
       "  <thead>\n",
       "    <tr style=\"text-align: right;\">\n",
       "      <th></th>\n",
       "      <th>0</th>\n",
       "      <th>1</th>\n",
       "      <th>2</th>\n",
       "      <th>3</th>\n",
       "      <th>class</th>\n",
       "    </tr>\n",
       "  </thead>\n",
       "  <tbody>\n",
       "    <tr>\n",
       "      <th>count</th>\n",
       "      <td>150.000000</td>\n",
       "      <td>150.000000</td>\n",
       "      <td>150.000000</td>\n",
       "      <td>150.000000</td>\n",
       "      <td>150.000000</td>\n",
       "    </tr>\n",
       "    <tr>\n",
       "      <th>mean</th>\n",
       "      <td>5.843333</td>\n",
       "      <td>3.057333</td>\n",
       "      <td>3.758000</td>\n",
       "      <td>1.199333</td>\n",
       "      <td>1.000000</td>\n",
       "    </tr>\n",
       "    <tr>\n",
       "      <th>std</th>\n",
       "      <td>0.828066</td>\n",
       "      <td>0.435866</td>\n",
       "      <td>1.765298</td>\n",
       "      <td>0.762238</td>\n",
       "      <td>0.819232</td>\n",
       "    </tr>\n",
       "    <tr>\n",
       "      <th>min</th>\n",
       "      <td>4.300000</td>\n",
       "      <td>2.000000</td>\n",
       "      <td>1.000000</td>\n",
       "      <td>0.100000</td>\n",
       "      <td>0.000000</td>\n",
       "    </tr>\n",
       "    <tr>\n",
       "      <th>25%</th>\n",
       "      <td>5.100000</td>\n",
       "      <td>2.800000</td>\n",
       "      <td>1.600000</td>\n",
       "      <td>0.300000</td>\n",
       "      <td>0.000000</td>\n",
       "    </tr>\n",
       "    <tr>\n",
       "      <th>50%</th>\n",
       "      <td>5.800000</td>\n",
       "      <td>3.000000</td>\n",
       "      <td>4.350000</td>\n",
       "      <td>1.300000</td>\n",
       "      <td>1.000000</td>\n",
       "    </tr>\n",
       "    <tr>\n",
       "      <th>75%</th>\n",
       "      <td>6.400000</td>\n",
       "      <td>3.300000</td>\n",
       "      <td>5.100000</td>\n",
       "      <td>1.800000</td>\n",
       "      <td>2.000000</td>\n",
       "    </tr>\n",
       "    <tr>\n",
       "      <th>max</th>\n",
       "      <td>7.900000</td>\n",
       "      <td>4.400000</td>\n",
       "      <td>6.900000</td>\n",
       "      <td>2.500000</td>\n",
       "      <td>2.000000</td>\n",
       "    </tr>\n",
       "  </tbody>\n",
       "</table>\n",
       "</div>"
      ],
      "text/plain": [
       "                0           1           2           3       class\n",
       "count  150.000000  150.000000  150.000000  150.000000  150.000000\n",
       "mean     5.843333    3.057333    3.758000    1.199333    1.000000\n",
       "std      0.828066    0.435866    1.765298    0.762238    0.819232\n",
       "min      4.300000    2.000000    1.000000    0.100000    0.000000\n",
       "25%      5.100000    2.800000    1.600000    0.300000    0.000000\n",
       "50%      5.800000    3.000000    4.350000    1.300000    1.000000\n",
       "75%      6.400000    3.300000    5.100000    1.800000    2.000000\n",
       "max      7.900000    4.400000    6.900000    2.500000    2.000000"
      ]
     },
     "execution_count": 5,
     "metadata": {},
     "output_type": "execute_result"
    }
   ],
   "source": [
    "iris_df.describe()"
   ]
  },
  {
   "cell_type": "code",
   "execution_count": 6,
   "id": "7f1ac1b0",
   "metadata": {},
   "outputs": [],
   "source": [
    "x = iris_df.iloc[:,[0,1,2]].values\n",
    "y = iris_df.iloc[:,[4]].values"
   ]
  },
  {
   "cell_type": "code",
   "execution_count": 7,
   "id": "dec247ac",
   "metadata": {},
   "outputs": [],
   "source": [
    "from sklearn.preprocessing import StandardScaler\n",
    "sc = StandardScaler()"
   ]
  },
  {
   "cell_type": "code",
   "execution_count": 8,
   "id": "b9c0c49b",
   "metadata": {},
   "outputs": [],
   "source": [
    "from sklearn.model_selection import train_test_split\n",
    "X_train, X_test, y_train, y_test = train_test_split(x, y, test_size = 0.25, random_state = 0)\n",
    "X_train = sc.fit_transform(X_train)"
   ]
  },
  {
   "cell_type": "code",
   "execution_count": 9,
   "id": "2012a21a",
   "metadata": {},
   "outputs": [
    {
     "data": {
      "text/plain": [
       "array([[ 1.54399532e-02, -1.19254753e-01,  2.25126850e-01],\n",
       "       [-9.98450310e-02, -1.04039491e+00,  1.13559562e-01],\n",
       "       [ 1.05300481e+00, -1.19254753e-01,  9.50314227e-01],\n",
       "       [-1.36797986e+00,  3.41315328e-01, -1.39259884e+00],\n",
       "       [ 1.16828980e+00,  1.11030287e-01,  7.27179649e-01],\n",
       "       [-1.02212490e+00,  1.03217045e+00, -1.22524790e+00],\n",
       "       [-5.60984968e-01,  1.49274053e+00, -1.28103155e+00],\n",
       "       [-1.02212490e+00, -2.42210516e+00, -1.65358660e-01],\n",
       "       [ 7.07149859e-01, -1.19254753e-01,  9.50314227e-01],\n",
       "       [ 9.37719827e-01,  5.71600368e-01,  1.06188152e+00],\n",
       "       [ 1.30724937e-01, -1.96153508e+00,  6.71396005e-01],\n",
       "       [ 9.37719827e-01, -1.27067995e+00,  1.11766516e+00],\n",
       "       [-3.30414999e-01, -1.27067995e+00,  5.77759173e-02],\n",
       "       [ 2.09056967e+00, -1.19254753e-01,  1.28501609e+00],\n",
       "       [ 4.76579890e-01,  5.71600368e-01,  5.04045072e-01],\n",
       "       [-4.45699984e-01, -1.50096499e+00,  1.99227301e-03],\n",
       "       [ 4.76579890e-01, -8.10109874e-01,  6.15612361e-01],\n",
       "       [ 4.76579890e-01, -5.79824834e-01,  7.27179649e-01],\n",
       "       [-1.13740989e+00, -1.27067995e+00,  3.92477783e-01],\n",
       "       [ 4.76579890e-01, -1.27067995e+00,  6.71396005e-01],\n",
       "       [ 1.28357478e+00,  3.41315328e-01,  5.04045072e-01],\n",
       "       [ 7.07149859e-01, -1.19254753e-01,  7.82963294e-01],\n",
       "       [ 1.30724937e-01,  8.01885408e-01,  3.92477783e-01],\n",
       "       [-1.25269487e+00,  1.11030287e-01, -1.22524790e+00],\n",
       "       [-9.98450310e-02, -8.10109874e-01,  7.27179649e-01],\n",
       "       [-3.30414999e-01, -8.10109874e-01,  2.25126850e-01],\n",
       "       [-3.30414999e-01, -3.49539793e-01, -1.09575016e-01],\n",
       "       [-4.45699984e-01, -1.27067995e+00,  1.13559562e-01],\n",
       "       [ 2.46009922e-01, -1.19254753e-01,  4.48261428e-01],\n",
       "       [ 1.51414475e+00,  3.41315328e-01,  1.22923245e+00],\n",
       "       [-6.76269952e-01,  1.49274053e+00, -1.28103155e+00],\n",
       "       [-1.82911979e+00, -1.19254753e-01, -1.50416612e+00],\n",
       "       [ 5.91864874e-01, -8.10109874e-01,  8.38746938e-01],\n",
       "       [-2.15130015e-01, -1.19254753e-01,  2.25126850e-01],\n",
       "       [-5.60984968e-01,  8.01885408e-01, -1.16946426e+00],\n",
       "       [-2.15130015e-01,  3.10473581e+00, -1.28103155e+00],\n",
       "       [ 1.16828980e+00,  1.11030287e-01,  6.15612361e-01],\n",
       "       [-1.48326484e+00,  1.11030287e-01, -1.28103155e+00],\n",
       "       [ 1.54399532e-02, -1.19254753e-01,  7.27179649e-01],\n",
       "       [-9.06839920e-01, -1.27067995e+00, -4.44276882e-01],\n",
       "       [-1.48326484e+00,  8.01885408e-01, -1.33681519e+00],\n",
       "       [ 3.61294906e-01, -1.96153508e+00,  3.92477783e-01],\n",
       "       [ 1.51414475e+00,  1.26245549e+00,  1.28501609e+00],\n",
       "       [-2.15130015e-01, -3.49539793e-01,  2.25126850e-01],\n",
       "       [-1.25269487e+00, -1.19254753e-01, -1.33681519e+00],\n",
       "       [ 1.39885976e+00, -1.19254753e-01,  1.17344880e+00],\n",
       "       [ 1.16828980e+00,  3.41315328e-01,  1.06188152e+00],\n",
       "       [ 7.07149859e-01, -1.19254753e-01,  1.11766516e+00],\n",
       "       [ 5.91864874e-01, -5.79824834e-01,  1.00609787e+00],\n",
       "       [-9.06839920e-01,  1.72302557e+00, -1.22524790e+00],\n",
       "       [-1.25269487e+00,  8.01885408e-01, -1.22524790e+00],\n",
       "       [ 7.07149859e-01,  3.41315328e-01,  7.27179649e-01],\n",
       "       [ 9.37719827e-01,  5.71600368e-01,  1.06188152e+00],\n",
       "       [-1.59854983e+00, -1.73125004e+00, -1.39259884e+00],\n",
       "       [ 3.61294906e-01,  8.01885408e-01,  8.94530582e-01],\n",
       "       [-1.13740989e+00, -1.19254753e-01, -1.33681519e+00],\n",
       "       [-2.15130015e-01, -1.27067995e+00,  6.71396005e-01],\n",
       "       [ 1.16828980e+00,  1.11030287e-01,  8.94530582e-01],\n",
       "       [-1.71383481e+00,  3.41315328e-01, -1.39259884e+00],\n",
       "       [-1.02212490e+00,  1.26245549e+00, -1.33681519e+00],\n",
       "       [ 1.51414475e+00, -1.19254753e-01,  1.11766516e+00],\n",
       "       [-9.06839920e-01,  1.03217045e+00, -1.33681519e+00],\n",
       "       [-1.71383481e+00, -1.19254753e-01, -1.39259884e+00],\n",
       "       [-5.60984968e-01,  1.95331061e+00, -1.16946426e+00],\n",
       "       [-4.45699984e-01, -1.73125004e+00,  1.13559562e-01],\n",
       "       [ 1.05300481e+00,  3.41315328e-01,  1.17344880e+00],\n",
       "       [ 1.97528468e+00, -1.19254753e-01,  1.56393431e+00],\n",
       "       [-9.06839920e-01,  1.03217045e+00, -1.33681519e+00],\n",
       "       [-1.13740989e+00,  1.11030287e-01, -1.28103155e+00],\n",
       "       [-7.91554936e-01,  8.01885408e-01, -1.33681519e+00],\n",
       "       [-2.15130015e-01, -5.79824834e-01,  3.92477783e-01],\n",
       "       [ 8.22434843e-01, -1.19254753e-01,  3.36694139e-01],\n",
       "       [-1.02212490e+00,  3.41315328e-01, -1.44838248e+00],\n",
       "       [-9.06839920e-01,  5.71600368e-01, -1.16946426e+00],\n",
       "       [ 5.91864874e-01, -3.49539793e-01,  2.80910495e-01],\n",
       "       [-5.60984968e-01,  8.01885408e-01, -1.28103155e+00],\n",
       "       [ 2.09056967e+00, -1.04039491e+00,  1.73128525e+00],\n",
       "       [-1.13740989e+00, -1.50096499e+00, -2.76925949e-01],\n",
       "       [ 2.32113964e+00,  1.72302557e+00,  1.45236703e+00],\n",
       "       [ 9.37719827e-01,  1.11030287e-01,  3.36694139e-01],\n",
       "       [-7.91554936e-01,  2.41388069e+00, -1.28103155e+00],\n",
       "       [ 1.30724937e-01, -1.19254753e-01,  5.59828716e-01],\n",
       "       [-9.98450310e-02,  2.18359565e+00, -1.44838248e+00],\n",
       "       [ 2.09056967e+00, -5.79824834e-01,  1.61971796e+00],\n",
       "       [-9.06839920e-01,  1.72302557e+00, -1.28103155e+00],\n",
       "       [-1.36797986e+00,  3.41315328e-01, -1.22524790e+00],\n",
       "       [ 1.74471472e+00, -5.79824834e-01,  1.28501609e+00],\n",
       "       [-1.02212490e+00,  5.71600368e-01, -1.33681519e+00],\n",
       "       [ 4.76579890e-01,  8.01885408e-01,  1.00609787e+00],\n",
       "       [-2.15130015e-01, -5.79824834e-01,  1.69343206e-01],\n",
       "       [-9.98450310e-02, -8.10109874e-01,  5.77759173e-02],\n",
       "       [-2.15130015e-01, -1.04039491e+00, -1.65358660e-01],\n",
       "       [ 5.91864874e-01,  3.41315328e-01,  8.38746938e-01],\n",
       "       [ 9.37719827e-01, -1.19254753e-01,  7.82963294e-01],\n",
       "       [ 4.76579890e-01, -1.27067995e+00,  6.15612361e-01],\n",
       "       [ 9.37719827e-01, -1.19254753e-01,  6.71396005e-01],\n",
       "       [-1.02212490e+00, -1.19254753e-01, -1.22524790e+00],\n",
       "       [-4.45699984e-01, -1.50096499e+00, -5.37913713e-02],\n",
       "       [ 9.37719827e-01,  1.11030287e-01,  1.00609787e+00],\n",
       "       [-9.98450310e-02, -8.10109874e-01,  7.27179649e-01],\n",
       "       [-9.06839920e-01,  8.01885408e-01, -1.28103155e+00],\n",
       "       [ 8.22434843e-01, -3.49539793e-01,  4.48261428e-01],\n",
       "       [-3.30414999e-01, -1.19254753e-01,  1.69343206e-01],\n",
       "       [ 1.54399532e-02,  3.41315328e-01,  5.59828716e-01],\n",
       "       [ 4.76579890e-01, -1.73125004e+00,  3.36694139e-01],\n",
       "       [-4.45699984e-01,  1.03217045e+00, -1.39259884e+00],\n",
       "       [-9.06839920e-01,  1.49274053e+00, -1.28103155e+00],\n",
       "       [-1.13740989e+00,  1.11030287e-01, -1.28103155e+00],\n",
       "       [ 4.76579890e-01, -3.49539793e-01,  1.00609787e+00],\n",
       "       [-9.98450310e-02, -8.10109874e-01,  1.69343206e-01],\n",
       "       [ 2.09056967e+00,  1.72302557e+00,  1.61971796e+00],\n",
       "       [-1.48326484e+00,  3.41315328e-01, -1.33681519e+00]])"
      ]
     },
     "execution_count": 9,
     "metadata": {},
     "output_type": "execute_result"
    }
   ],
   "source": [
    "X_train"
   ]
  },
  {
   "cell_type": "code",
   "execution_count": 16,
   "id": "7c202458",
   "metadata": {},
   "outputs": [
    {
     "name": "stderr",
     "output_type": "stream",
     "text": [
      "C:\\Users\\sunay\\anaconda3\\lib\\site-packages\\sklearn\\utils\\validation.py:63: DataConversionWarning: A column-vector y was passed when a 1d array was expected. Please change the shape of y to (n_samples, ), for example using ravel().\n",
      "  return f(*args, **kwargs)\n"
     ]
    }
   ],
   "source": [
    "from sklearn.linear_model import LogisticRegression\n",
    "clf = LogisticRegression(random_state=0).fit(x, y)"
   ]
  },
  {
   "cell_type": "code",
   "execution_count": 17,
   "id": "9b422d2b",
   "metadata": {},
   "outputs": [
    {
     "data": {
      "text/plain": [
       "array([0, 0])"
      ]
     },
     "execution_count": 17,
     "metadata": {},
     "output_type": "execute_result"
    }
   ],
   "source": [
    "clf.predict(x[:2, :])"
   ]
  },
  {
   "cell_type": "code",
   "execution_count": 18,
   "id": "c75a271a",
   "metadata": {},
   "outputs": [
    {
     "data": {
      "text/plain": [
       "array([0, 0, 0])"
      ]
     },
     "execution_count": 18,
     "metadata": {},
     "output_type": "execute_result"
    }
   ],
   "source": [
    "clf.predict(x[:3, :])"
   ]
  },
  {
   "cell_type": "code",
   "execution_count": 23,
   "id": "618cef45",
   "metadata": {},
   "outputs": [
    {
     "name": "stderr",
     "output_type": "stream",
     "text": [
      "C:\\Users\\sunay\\anaconda3\\lib\\site-packages\\sklearn\\utils\\validation.py:63: DataConversionWarning: A column-vector y was passed when a 1d array was expected. Please change the shape of y to (n_samples, ), for example using ravel().\n",
      "  return f(*args, **kwargs)\n"
     ]
    },
    {
     "data": {
      "text/plain": [
       "LogisticRegression(random_state=0)"
      ]
     },
     "execution_count": 23,
     "metadata": {},
     "output_type": "execute_result"
    }
   ],
   "source": [
    "classifier = LogisticRegression(random_state = 0, solver='lbfgs', multi_class='auto')\n",
    "classifier.fit(X_train, y_train)"
   ]
  },
  {
   "cell_type": "code",
   "execution_count": 26,
   "id": "6b8bfc46",
   "metadata": {},
   "outputs": [],
   "source": [
    "y_pred = classifier.predict(X_test)"
   ]
  },
  {
   "cell_type": "code",
   "execution_count": 29,
   "id": "a1672fff",
   "metadata": {},
   "outputs": [
    {
     "name": "stdout",
     "output_type": "stream",
     "text": [
      "[[0.   0.   1.  ]\n",
      " [0.   0.   1.  ]\n",
      " [0.   0.03 0.97]\n",
      " [0.   0.   1.  ]\n",
      " [0.   0.02 0.98]\n",
      " [0.   0.   1.  ]\n",
      " [0.   0.05 0.95]\n",
      " [0.   0.   1.  ]\n",
      " [0.   0.   1.  ]\n",
      " [0.   0.   1.  ]\n",
      " [0.   0.   1.  ]\n",
      " [0.   0.   1.  ]\n",
      " [0.   0.   1.  ]\n",
      " [0.   0.   1.  ]\n",
      " [0.   0.   1.  ]\n",
      " [0.   0.03 0.97]\n",
      " [0.   0.   1.  ]\n",
      " [0.   0.   1.  ]\n",
      " [0.   0.03 0.97]\n",
      " [0.   0.05 0.95]\n",
      " [0.   0.   1.  ]\n",
      " [0.   0.   1.  ]\n",
      " [0.   0.   1.  ]\n",
      " [0.   0.03 0.97]\n",
      " [0.   0.   1.  ]\n",
      " [0.   0.15 0.85]\n",
      " [0.   0.   1.  ]\n",
      " [0.   0.   1.  ]\n",
      " [0.   0.   1.  ]\n",
      " [0.   0.02 0.98]\n",
      " [0.   0.   1.  ]\n",
      " [0.   0.   1.  ]\n",
      " [0.   0.02 0.98]\n",
      " [0.   0.   1.  ]\n",
      " [0.   0.   1.  ]\n",
      " [0.   0.   1.  ]\n",
      " [0.   0.01 0.99]\n",
      " [0.   0.   1.  ]]\n"
     ]
    }
   ],
   "source": [
    "probs_y=classifier.predict_proba(X_test)\n",
    "### Print results \n",
    "probs_y = np.round(probs_y, 2)\n",
    "print(probs_y)"
   ]
  },
  {
   "cell_type": "code",
   "execution_count": 7,
   "id": "3db8b398",
   "metadata": {},
   "outputs": [
    {
     "data": {
      "text/html": [
       "<div>\n",
       "<style scoped>\n",
       "    .dataframe tbody tr th:only-of-type {\n",
       "        vertical-align: middle;\n",
       "    }\n",
       "\n",
       "    .dataframe tbody tr th {\n",
       "        vertical-align: top;\n",
       "    }\n",
       "\n",
       "    .dataframe thead th {\n",
       "        text-align: right;\n",
       "    }\n",
       "</style>\n",
       "<table border=\"1\" class=\"dataframe\">\n",
       "  <thead>\n",
       "    <tr style=\"text-align: right;\">\n",
       "      <th></th>\n",
       "      <th>sepal length (cm)</th>\n",
       "      <th>sepal width (cm)</th>\n",
       "      <th>petal length (cm)</th>\n",
       "      <th>petal width (cm)</th>\n",
       "    </tr>\n",
       "  </thead>\n",
       "  <tbody>\n",
       "    <tr>\n",
       "      <th>0</th>\n",
       "      <td>5.1</td>\n",
       "      <td>3.5</td>\n",
       "      <td>1.4</td>\n",
       "      <td>0.2</td>\n",
       "    </tr>\n",
       "    <tr>\n",
       "      <th>1</th>\n",
       "      <td>4.9</td>\n",
       "      <td>3.0</td>\n",
       "      <td>1.4</td>\n",
       "      <td>0.2</td>\n",
       "    </tr>\n",
       "    <tr>\n",
       "      <th>2</th>\n",
       "      <td>4.7</td>\n",
       "      <td>3.2</td>\n",
       "      <td>1.3</td>\n",
       "      <td>0.2</td>\n",
       "    </tr>\n",
       "    <tr>\n",
       "      <th>3</th>\n",
       "      <td>4.6</td>\n",
       "      <td>3.1</td>\n",
       "      <td>1.5</td>\n",
       "      <td>0.2</td>\n",
       "    </tr>\n",
       "    <tr>\n",
       "      <th>4</th>\n",
       "      <td>5.0</td>\n",
       "      <td>3.6</td>\n",
       "      <td>1.4</td>\n",
       "      <td>0.2</td>\n",
       "    </tr>\n",
       "  </tbody>\n",
       "</table>\n",
       "</div>"
      ],
      "text/plain": [
       "   sepal length (cm)  sepal width (cm)  petal length (cm)  petal width (cm)\n",
       "0                5.1               3.5                1.4               0.2\n",
       "1                4.9               3.0                1.4               0.2\n",
       "2                4.7               3.2                1.3               0.2\n",
       "3                4.6               3.1                1.5               0.2\n",
       "4                5.0               3.6                1.4               0.2"
      ]
     },
     "execution_count": 7,
     "metadata": {},
     "output_type": "execute_result"
    }
   ],
   "source": [
    "import pandas as pd\n",
    "df = pd.DataFrame(iris.data, columns=iris.feature_names)\n",
    "df.head()"
   ]
  },
  {
   "cell_type": "code",
   "execution_count": 8,
   "id": "b457c5e7",
   "metadata": {},
   "outputs": [],
   "source": [
    "df['target'] = iris.target"
   ]
  },
  {
   "cell_type": "code",
   "execution_count": 9,
   "id": "f49d951e",
   "metadata": {},
   "outputs": [],
   "source": [
    "from sklearn.model_selection import train_test_split"
   ]
  },
  {
   "cell_type": "code",
   "execution_count": 10,
   "id": "e84d61f5",
   "metadata": {},
   "outputs": [],
   "source": [
    "X_train, X_test, y_train, y_test = train_test_split(df.drop(['target'], axis='columns'), iris.target, test_size=0.2)"
   ]
  },
  {
   "cell_type": "code",
   "execution_count": 11,
   "id": "65a10b15",
   "metadata": {},
   "outputs": [
    {
     "data": {
      "text/plain": [
       "RandomForestClassifier()"
      ]
     },
     "execution_count": 11,
     "metadata": {},
     "output_type": "execute_result"
    }
   ],
   "source": [
    "from sklearn.ensemble import RandomForestClassifier\n",
    "model = RandomForestClassifier()\n",
    "model.fit(X_train, y_train)"
   ]
  },
  {
   "cell_type": "code",
   "execution_count": 12,
   "id": "64f98f4a",
   "metadata": {},
   "outputs": [
    {
     "data": {
      "text/plain": [
       "0.9333333333333333"
      ]
     },
     "execution_count": 12,
     "metadata": {},
     "output_type": "execute_result"
    }
   ],
   "source": [
    "model = RandomForestClassifier(n_estimators=40) # use 40 random forests\n",
    "model.fit(X_train, y_train) # fit the training data to adjust the model to the training data\n",
    "model.score(X_test, y_test) # test the model using the training data fit and check for accuracy"
   ]
  },
  {
   "cell_type": "code",
   "execution_count": 13,
   "id": "ae3676b7",
   "metadata": {},
   "outputs": [],
   "source": [
    "y_predicted = model.predict(X_test)"
   ]
  },
  {
   "cell_type": "code",
   "execution_count": 14,
   "id": "f2a95c20",
   "metadata": {},
   "outputs": [
    {
     "data": {
      "text/plain": [
       "array([[10,  0,  0],\n",
       "       [ 0, 12,  1],\n",
       "       [ 0,  1,  6]], dtype=int64)"
      ]
     },
     "execution_count": 14,
     "metadata": {},
     "output_type": "execute_result"
    }
   ],
   "source": [
    "from sklearn.metrics import confusion_matrix\n",
    "cm = confusion_matrix(y_test, y_predicted)\n",
    "cm"
   ]
  },
  {
   "cell_type": "markdown",
   "id": "e9f58c83",
   "metadata": {},
   "source": [
    "The confusion matrix above indicates the relationship between predicted and truth matrices. If the top left is 11, it indicates that I predicted the value 10 be 0 11 times and it was correct 11 times. The higher the numbers in the diagonal, the better for your accuracy of the model. There are three incorrect values predicted(2 and 1) where the model predicted the wrong number when the true number was supposed to be something else."
   ]
  },
  {
   "cell_type": "code",
   "execution_count": 15,
   "id": "6fb6bd55",
   "metadata": {},
   "outputs": [
    {
     "data": {
      "text/html": [
       "<div>\n",
       "<style scoped>\n",
       "    .dataframe tbody tr th:only-of-type {\n",
       "        vertical-align: middle;\n",
       "    }\n",
       "\n",
       "    .dataframe tbody tr th {\n",
       "        vertical-align: top;\n",
       "    }\n",
       "\n",
       "    .dataframe thead th {\n",
       "        text-align: right;\n",
       "    }\n",
       "</style>\n",
       "<table border=\"1\" class=\"dataframe\">\n",
       "  <thead>\n",
       "    <tr style=\"text-align: right;\">\n",
       "      <th></th>\n",
       "      <th>x</th>\n",
       "      <th>y</th>\n",
       "      <th>cluster</th>\n",
       "    </tr>\n",
       "  </thead>\n",
       "  <tbody>\n",
       "    <tr>\n",
       "      <th>0</th>\n",
       "      <td>5.1</td>\n",
       "      <td>3.5</td>\n",
       "      <td>0</td>\n",
       "    </tr>\n",
       "    <tr>\n",
       "      <th>1</th>\n",
       "      <td>4.9</td>\n",
       "      <td>3.0</td>\n",
       "      <td>0</td>\n",
       "    </tr>\n",
       "    <tr>\n",
       "      <th>2</th>\n",
       "      <td>4.7</td>\n",
       "      <td>3.2</td>\n",
       "      <td>0</td>\n",
       "    </tr>\n",
       "    <tr>\n",
       "      <th>3</th>\n",
       "      <td>4.6</td>\n",
       "      <td>3.1</td>\n",
       "      <td>0</td>\n",
       "    </tr>\n",
       "    <tr>\n",
       "      <th>4</th>\n",
       "      <td>5.0</td>\n",
       "      <td>3.6</td>\n",
       "      <td>0</td>\n",
       "    </tr>\n",
       "    <tr>\n",
       "      <th>...</th>\n",
       "      <td>...</td>\n",
       "      <td>...</td>\n",
       "      <td>...</td>\n",
       "    </tr>\n",
       "    <tr>\n",
       "      <th>145</th>\n",
       "      <td>6.7</td>\n",
       "      <td>3.0</td>\n",
       "      <td>2</td>\n",
       "    </tr>\n",
       "    <tr>\n",
       "      <th>146</th>\n",
       "      <td>6.3</td>\n",
       "      <td>2.5</td>\n",
       "      <td>2</td>\n",
       "    </tr>\n",
       "    <tr>\n",
       "      <th>147</th>\n",
       "      <td>6.5</td>\n",
       "      <td>3.0</td>\n",
       "      <td>2</td>\n",
       "    </tr>\n",
       "    <tr>\n",
       "      <th>148</th>\n",
       "      <td>6.2</td>\n",
       "      <td>3.4</td>\n",
       "      <td>2</td>\n",
       "    </tr>\n",
       "    <tr>\n",
       "      <th>149</th>\n",
       "      <td>5.9</td>\n",
       "      <td>3.0</td>\n",
       "      <td>2</td>\n",
       "    </tr>\n",
       "  </tbody>\n",
       "</table>\n",
       "<p>150 rows × 3 columns</p>\n",
       "</div>"
      ],
      "text/plain": [
       "       x    y  cluster\n",
       "0    5.1  3.5        0\n",
       "1    4.9  3.0        0\n",
       "2    4.7  3.2        0\n",
       "3    4.6  3.1        0\n",
       "4    5.0  3.6        0\n",
       "..   ...  ...      ...\n",
       "145  6.7  3.0        2\n",
       "146  6.3  2.5        2\n",
       "147  6.5  3.0        2\n",
       "148  6.2  3.4        2\n",
       "149  5.9  3.0        2\n",
       "\n",
       "[150 rows x 3 columns]"
      ]
     },
     "execution_count": 15,
     "metadata": {},
     "output_type": "execute_result"
    }
   ],
   "source": [
    "iris = datasets.load_iris()\n",
    "df = pd.DataFrame({\n",
    "    'x': iris.data[:,0],\n",
    "    'y': iris.data[:,1],\n",
    "    'cluster': iris.target\n",
    "})\n",
    "df"
   ]
  },
  {
   "cell_type": "code",
   "execution_count": 16,
   "id": "37fa9aeb",
   "metadata": {},
   "outputs": [
    {
     "data": {
      "text/plain": [
       "{0: [5.005999999999999, 3.428000000000001],\n",
       " 1: [5.936, 2.7700000000000005],\n",
       " 2: [6.587999999999998, 2.9739999999999998]}"
      ]
     },
     "execution_count": 16,
     "metadata": {},
     "output_type": "execute_result"
    }
   ],
   "source": [
    "centroids = {}\n",
    "for i in range(3):\n",
    "    result_list = []\n",
    "    result_list.append(df.loc[df['cluster'] == i]['x'].mean())\n",
    "    result_list.append(df.loc[df['cluster'] == i]['y'].mean())\n",
    "    \n",
    "    centroids[i] = result_list\n",
    "centroids"
   ]
  },
  {
   "cell_type": "code",
   "execution_count": 17,
   "id": "9c036688",
   "metadata": {},
   "outputs": [
    {
     "data": {
      "text/plain": [
       "Text(0, 0.5, 'Sepal Width')"
      ]
     },
     "execution_count": 17,
     "metadata": {},
     "output_type": "execute_result"
    },
    {
     "data": {
      "image/png": "[encoded data removed]",
      "text/plain": [
       "<Figure size 360x360 with 1 Axes>"
      ]
     },
     "metadata": {
      "needs_background": "light"
     },
     "output_type": "display_data"
    }
   ],
   "source": [
    "fig = plt.figure(figsize=(5,5))\n",
    "plt.scatter(df['x'], df['y'], c=iris.target, alpha=0.3)\n",
    "plt.xlabel('Sepal Length')\n",
    "plt.ylabel('Sepal Width')"
   ]
  },
  {
   "cell_type": "code",
   "execution_count": 18,
   "id": "eb5677af",
   "metadata": {},
   "outputs": [
    {
     "data": {
      "image/png": "[encoded data removed]",
      "text/plain": [
       "<Figure size 432x288 with 1 Axes>"
      ]
     },
     "metadata": {
      "needs_background": "light"
     },
     "output_type": "display_data"
    }
   ],
   "source": [
    "colmap = {0:'r', 1:'g', 2:'b'}\n",
    "for i in range(3):\n",
    "    plt.scatter(centroids[i][0], centroids[i][1], color=colmap[i])"
   ]
  },
  {
   "cell_type": "code",
   "execution_count": null,
   "id": "88d801ca",
   "metadata": {},
   "outputs": [],
   "source": []
  },
  {
   "cell_type": "code",
   "execution_count": 19,
   "id": "89952cd9",
   "metadata": {},
   "outputs": [
    {
     "data": {
      "image/png": "[encoded data removed]",
      "text/plain": [
       "<Figure size 360x360 with 1 Axes>"
      ]
     },
     "metadata": {
      "needs_background": "light"
     },
     "output_type": "display_data"
    }
   ],
   "source": [
    "fig = plt.figure(figsize=(5,5))\n",
    "plt.scatter(df['x'], df['y'], c=iris.target,alpha=0.3)\n",
    "colmap = {0: 'r', 1: 'g', 2: 'b'}\n",
    "col = [0,1]\n",
    "for i in centroids.keys():\n",
    "    plt.scatter(centroids[i][0], centroids[i][1], c=colmap[i], edgecolor='k')\n",
    "plt.show()"
   ]
  },
  {
   "cell_type": "code",
   "execution_count": 29,
   "id": "da1cc860",
   "metadata": {},
   "outputs": [],
   "source": [
    "def assignment(df, centroids):\n",
    "    for i in range(3):\n",
    "        df['distance_from_{}'.format(i)] = (\n",
    "            np.sqrt(\n",
    "                (df['x'] - centroids[i][0]) ** 2 \n",
    "                + (df['y'] - centroids[i][1]) ** 2\n",
    "            )\n",
    "        )\n",
    "        print(centroids.keys())\n",
    "    centroid_distance_cols = ['distance_from_{}'.format(i) for i in centroids.keys()]\n",
    "    print(centroid_distance_cols)\n",
    "    df['closest'] = df.loc[:, centroid_distance_cols].idxmin(axis=1)\n",
    "    df['closest'] = df['closest'].map(lambda x: int(x.lstrip('distance_from_')))\n",
    "    df['color'] = df['closest'].map(lambda x: colmap[x])\n",
    "    return df"
   ]
  },
  {
   "cell_type": "code",
   "execution_count": 30,
   "id": "955200a2",
   "metadata": {},
   "outputs": [
    {
     "name": "stdout",
     "output_type": "stream",
     "text": [
      "dict_keys([0, 1, 2])\n",
      "dict_keys([0, 1, 2])\n",
      "dict_keys([0, 1, 2])\n",
      "['distance_from_0', 'distance_from_1', 'distance_from_2']\n"
     ]
    }
   ],
   "source": [
    "df = assignment(df, centroids)"
   ]
  },
  {
   "cell_type": "code",
   "execution_count": 31,
   "id": "b80c6590",
   "metadata": {},
   "outputs": [
    {
     "data": {
      "text/html": [
       "<div>\n",
       "<style scoped>\n",
       "    .dataframe tbody tr th:only-of-type {\n",
       "        vertical-align: middle;\n",
       "    }\n",
       "\n",
       "    .dataframe tbody tr th {\n",
       "        vertical-align: top;\n",
       "    }\n",
       "\n",
       "    .dataframe thead th {\n",
       "        text-align: right;\n",
       "    }\n",
       "</style>\n",
       "<table border=\"1\" class=\"dataframe\">\n",
       "  <thead>\n",
       "    <tr style=\"text-align: right;\">\n",
       "      <th></th>\n",
       "      <th>x</th>\n",
       "      <th>y</th>\n",
       "      <th>cluster</th>\n",
       "      <th>distance_from_0</th>\n",
       "      <th>distance_from_1</th>\n",
       "      <th>distance_from_2</th>\n",
       "      <th>closest</th>\n",
       "      <th>color</th>\n",
       "    </tr>\n",
       "  </thead>\n",
       "  <tbody>\n",
       "    <tr>\n",
       "      <th>0</th>\n",
       "      <td>5.1</td>\n",
       "      <td>3.5</td>\n",
       "      <td>0</td>\n",
       "      <td>0.118406</td>\n",
       "      <td>1.109863</td>\n",
       "      <td>1.578233</td>\n",
       "      <td>0</td>\n",
       "      <td>r</td>\n",
       "    </tr>\n",
       "    <tr>\n",
       "      <th>1</th>\n",
       "      <td>4.9</td>\n",
       "      <td>3.0</td>\n",
       "      <td>0</td>\n",
       "      <td>0.440931</td>\n",
       "      <td>1.061224</td>\n",
       "      <td>1.688200</td>\n",
       "      <td>0</td>\n",
       "      <td>r</td>\n",
       "    </tr>\n",
       "    <tr>\n",
       "      <th>2</th>\n",
       "      <td>4.7</td>\n",
       "      <td>3.2</td>\n",
       "      <td>0</td>\n",
       "      <td>0.381602</td>\n",
       "      <td>1.308662</td>\n",
       "      <td>1.901478</td>\n",
       "      <td>0</td>\n",
       "      <td>r</td>\n",
       "    </tr>\n",
       "    <tr>\n",
       "      <th>3</th>\n",
       "      <td>4.6</td>\n",
       "      <td>3.1</td>\n",
       "      <td>0</td>\n",
       "      <td>0.521939</td>\n",
       "      <td>1.376153</td>\n",
       "      <td>1.991989</td>\n",
       "      <td>0</td>\n",
       "      <td>r</td>\n",
       "    </tr>\n",
       "    <tr>\n",
       "      <th>4</th>\n",
       "      <td>5.0</td>\n",
       "      <td>3.6</td>\n",
       "      <td>0</td>\n",
       "      <td>0.172105</td>\n",
       "      <td>1.250998</td>\n",
       "      <td>1.706933</td>\n",
       "      <td>0</td>\n",
       "      <td>r</td>\n",
       "    </tr>\n",
       "    <tr>\n",
       "      <th>...</th>\n",
       "      <td>...</td>\n",
       "      <td>...</td>\n",
       "      <td>...</td>\n",
       "      <td>...</td>\n",
       "      <td>...</td>\n",
       "      <td>...</td>\n",
       "      <td>...</td>\n",
       "      <td>...</td>\n",
       "    </tr>\n",
       "    <tr>\n",
       "      <th>145</th>\n",
       "      <td>6.7</td>\n",
       "      <td>3.0</td>\n",
       "      <td>2</td>\n",
       "      <td>1.747232</td>\n",
       "      <td>0.797870</td>\n",
       "      <td>0.114978</td>\n",
       "      <td>2</td>\n",
       "      <td>b</td>\n",
       "    </tr>\n",
       "    <tr>\n",
       "      <th>146</th>\n",
       "      <td>6.3</td>\n",
       "      <td>2.5</td>\n",
       "      <td>2</td>\n",
       "      <td>1.592363</td>\n",
       "      <td>0.453206</td>\n",
       "      <td>0.554635</td>\n",
       "      <td>1</td>\n",
       "      <td>g</td>\n",
       "    </tr>\n",
       "    <tr>\n",
       "      <th>147</th>\n",
       "      <td>6.5</td>\n",
       "      <td>3.0</td>\n",
       "      <td>2</td>\n",
       "      <td>1.554098</td>\n",
       "      <td>0.609094</td>\n",
       "      <td>0.091761</td>\n",
       "      <td>2</td>\n",
       "      <td>b</td>\n",
       "    </tr>\n",
       "    <tr>\n",
       "      <th>148</th>\n",
       "      <td>6.2</td>\n",
       "      <td>3.4</td>\n",
       "      <td>2</td>\n",
       "      <td>1.194328</td>\n",
       "      <td>0.683078</td>\n",
       "      <td>0.576212</td>\n",
       "      <td>2</td>\n",
       "      <td>b</td>\n",
       "    </tr>\n",
       "    <tr>\n",
       "      <th>149</th>\n",
       "      <td>5.9</td>\n",
       "      <td>3.0</td>\n",
       "      <td>2</td>\n",
       "      <td>0.991171</td>\n",
       "      <td>0.232800</td>\n",
       "      <td>0.688491</td>\n",
       "      <td>1</td>\n",
       "      <td>g</td>\n",
       "    </tr>\n",
       "  </tbody>\n",
       "</table>\n",
       "<p>150 rows × 8 columns</p>\n",
       "</div>"
      ],
      "text/plain": [
       "       x    y  cluster  distance_from_0  distance_from_1  distance_from_2  \\\n",
       "0    5.1  3.5        0         0.118406         1.109863         1.578233   \n",
       "1    4.9  3.0        0         0.440931         1.061224         1.688200   \n",
       "2    4.7  3.2        0         0.381602         1.308662         1.901478   \n",
       "3    4.6  3.1        0         0.521939         1.376153         1.991989   \n",
       "4    5.0  3.6        0         0.172105         1.250998         1.706933   \n",
       "..   ...  ...      ...              ...              ...              ...   \n",
       "145  6.7  3.0        2         1.747232         0.797870         0.114978   \n",
       "146  6.3  2.5        2         1.592363         0.453206         0.554635   \n",
       "147  6.5  3.0        2         1.554098         0.609094         0.091761   \n",
       "148  6.2  3.4        2         1.194328         0.683078         0.576212   \n",
       "149  5.9  3.0        2         0.991171         0.232800         0.688491   \n",
       "\n",
       "     closest color  \n",
       "0          0     r  \n",
       "1          0     r  \n",
       "2          0     r  \n",
       "3          0     r  \n",
       "4          0     r  \n",
       "..       ...   ...  \n",
       "145        2     b  \n",
       "146        1     g  \n",
       "147        2     b  \n",
       "148        2     b  \n",
       "149        1     g  \n",
       "\n",
       "[150 rows x 8 columns]"
      ]
     },
     "execution_count": 31,
     "metadata": {},
     "output_type": "execute_result"
    }
   ],
   "source": [
    "df"
   ]
  },
  {
   "cell_type": "code",
   "execution_count": 44,
   "id": "6a8e7e06",
   "metadata": {},
   "outputs": [
    {
     "data": {
      "image/png": "[encoded data removed]",
      "text/plain": [
       "<Figure size 360x360 with 1 Axes>"
      ]
     },
     "metadata": {
      "needs_background": "light"
     },
     "output_type": "display_data"
    }
   ],
   "source": [
    "fig = plt.figure(figsize=(5,5))\n",
    "plt.scatter(df['x'], df['y'], color=df['color'], alpha=0.3)\n",
    "for i in centroids.keys():\n",
    "    plt.scatter(*centroids[i], color=colmap[i], edgecolor='k')"
   ]
  },
  {
   "cell_type": "code",
   "execution_count": 45,
   "id": "18dc4f9d",
   "metadata": {},
   "outputs": [],
   "source": [
    "def update(k):\n",
    "    for i in range(3):\n",
    "        centroids[i][0] = np.mean(df[df['closest'] == i]['x'])\n",
    "        centroids[i][1] = np.mean(df[df['closest'] == i]['y'])\n",
    "    return k\n"
   ]
  },
  {
   "cell_type": "code",
   "execution_count": 42,
   "id": "09b71fd7",
   "metadata": {},
   "outputs": [
    {
     "name": "stdout",
     "output_type": "stream",
     "text": [
      "dict_keys([0, 1, 2])\n",
      "dict_keys([0, 1, 2])\n",
      "dict_keys([0, 1, 2])\n",
      "['distance_from_0', 'distance_from_1', 'distance_from_2']\n"
     ]
    }
   ],
   "source": [
    "while True:\n",
    "    closest_centroids = df['closest'].copy(deep=True)\n",
    "    centroids = update(centroids)\n",
    "    df = assignment(df, centroids)\n",
    "    if closest_centroids.equals(df['closest']):\n",
    "        break"
   ]
  },
  {
   "cell_type": "code",
   "execution_count": 46,
   "id": "54c143ab",
   "metadata": {},
   "outputs": [
    {
     "data": {
      "image/png": "[encoded data removed]",
      "text/plain": [
       "<Figure size 360x360 with 1 Axes>"
      ]
     },
     "metadata": {
      "needs_background": "light"
     },
     "output_type": "display_data"
    }
   ],
   "source": [
    "fig = plt.figure(figsize=(5,5))\n",
    "plt.scatter(df['x'], df['y'], color=df['color'])\n",
    "for i in centroids.keys():\n",
    "    plt.scatter(centroids[i][0], centroids[i][0], color=colmap[i], edgecolor='k')\n",
    "plt.show()"
   ]
  },
  {
   "cell_type": "code",
   "execution_count": null,
   "id": "ee9343b4",
   "metadata": {},
   "outputs": [],
   "source": []
  }
 ],
 "metadata": {
  "kernelspec": {
   "display_name": "Python 3 (ipykernel)",
   "language": "python",
   "name": "python3"
  },
  "language_info": {
   "codemirror_mode": {
    "name": "ipython",
    "version": 3
   },
   "file_extension": ".py",
   "mimetype": "text/x-python",
   "name": "python",
   "nbconvert_exporter": "python",
   "pygments_lexer": "ipython3",
   "version": "3.9.7"
  }
 },
 "nbformat": 4,
 "nbformat_minor": 5
}
